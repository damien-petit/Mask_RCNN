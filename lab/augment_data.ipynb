{
 "cells": [
  {
   "cell_type": "code",
   "execution_count": null,
   "metadata": {},
   "outputs": [],
   "source": [
    "import cv2\n",
    "import json\n",
    "import numpy as np\n",
    "import skimage.draw\n",
    "import matplotlib.pyplot as plt\n",
    "from imgaug import augmenters as iaa"
   ]
  },
  {
   "cell_type": "code",
   "execution_count": null,
   "metadata": {},
   "outputs": [],
   "source": [
    "# Set output area size for image\n",
    "plt.rcParams['figure.figsize'] = (15.0, 15.0)"
   ]
  },
  {
   "cell_type": "markdown",
   "metadata": {},
   "source": [
    "## Load Data"
   ]
  },
  {
   "cell_type": "code",
   "execution_count": null,
   "metadata": {
    "scrolled": true
   },
   "outputs": [],
   "source": [
    "img = cv2.imread(\"test.png\")\n",
    "img = cv2.cvtColor(img, cv2.COLOR_BGR2RGB)\n",
    "height, width = img.shape[:2]\n",
    "print(width, height)\n",
    "plt.imshow(img)\n",
    "plt.show()"
   ]
  },
  {
   "cell_type": "markdown",
   "metadata": {},
   "source": [
    "## Check Various Augument Image"
   ]
  },
  {
   "cell_type": "code",
   "execution_count": null,
   "metadata": {},
   "outputs": [],
   "source": [
    "aug = iaa.Affine(rotate=(-180, 180))\n",
    "img_aug = aug.augment_image(img)\n",
    "plt.imshow(img_aug)\n",
    "plt.show()"
   ]
  },
  {
   "cell_type": "code",
   "execution_count": null,
   "metadata": {},
   "outputs": [],
   "source": [
    "seq = iaa.Sequential([\n",
    "#     iaa.CropToFixedSize(width=1080, height=1080, position=\"center\"),\n",
    "    iaa.Sometimes(0.8, iaa.Affine(rotate=(-180, 180))),\n",
    "    iaa.LogContrast(gain=(0.6, 1.4)),\n",
    "#     iaa.Sometimes(0.5, iaa.MultiplyHueAndSaturation(mul_saturation=(0.5, 1.5))),\n",
    "#     iaa.Sometimes(0.5, iaa.Affine(shear=(-3, 3))),\n",
    "#     iaa.Sometimes(0.5, iaa.PiecewiseAffine(scale=(0.01, 0.02))),\n",
    "    iaa.GaussianBlur(sigma=(2.0, 3.0))\n",
    "])\n",
    "\n",
    "img_aug = seq.augment_image(img)\n",
    "plt.imshow(img_aug)\n",
    "plt.show()"
   ]
  },
  {
   "cell_type": "markdown",
   "metadata": {},
   "source": [
    "## Load annotation file"
   ]
  },
  {
   "cell_type": "code",
   "execution_count": null,
   "metadata": {},
   "outputs": [],
   "source": [
    "annotations = json.load(open(\"test_label.json\"))\n",
    "annotations = list(annotations.values())\n",
    "annotations = [a for a in annotations if a['regions']]\n",
    "\n",
    "polygons = []\n",
    "names = []\n",
    "for a in annotations:\n",
    "    polygons = [r['shape_attributes'] for r in a['regions']] \n",
    "    names = [r['region_attributes'] for r in a['regions']]"
   ]
  },
  {
   "cell_type": "markdown",
   "metadata": {},
   "source": [
    "## Check masked data"
   ]
  },
  {
   "cell_type": "code",
   "execution_count": null,
   "metadata": {
    "scrolled": true
   },
   "outputs": [],
   "source": [
    "mask = np.zeros([height, width, len(polygons)], dtype=np.uint8)\n",
    "plt.imshow(img)\n",
    "plt.show()\n",
    "for i, (p, n) in enumerate(zip(polygons, names)):\n",
    "    rr, cc = skimage.draw.polygon(p['all_points_y'], p['all_points_x'])\n",
    "    mask[rr, cc, i] = 1\n",
    "    \n",
    "    print(n[\"name\"])\n",
    "    plt.imshow(mask[:, :, i], cmap=\"gray\")\n",
    "    plt.show()"
   ]
  },
  {
   "cell_type": "markdown",
   "metadata": {},
   "source": [
    "## Augument image and mask"
   ]
  },
  {
   "cell_type": "code",
   "execution_count": null,
   "metadata": {
    "scrolled": false
   },
   "outputs": [],
   "source": [
    "# Integrate image numpy and mask numpy\n",
    "img_and_mask = np.append(img, mask, axis=2)\n",
    "\n",
    "# Check source image\n",
    "plt.imshow(img_and_mask[:,:,:3])\n",
    "plt.show()\n",
    "\n",
    "# Augment\n",
    "aug = iaa.Affine(rotate=(-180, 180))\n",
    "test = aug.augment_image(img_and_mask)\n",
    "test_img = test[:,:,:3]\n",
    "test_mask = test[:,:,3:]\n",
    "\n",
    "# Check augmented image\n",
    "plt.imshow(test_img)\n",
    "plt.show()\n",
    "\n",
    "# Save augmented image\n",
    "# cv2.imwrite(\"test_augment.png\", cv2.cvtColor(test_img, cv2.COLOR_RGB2BGR))\n",
    "\n",
    "# Make augmented masked label data\n",
    "result = {}\n",
    "result[\"test\"] = {\"filename\":\"test_augment.png\", \"file_attributes\":{}, \"size\": 0}\n",
    "regions = []\n",
    "for i in range(test_mask.shape[-1]):\n",
    "    attr = {}\n",
    "    region_attributes = {\"name\": \"test\"}\n",
    "    attr[\"region_attributes\"] = region_attributes\n",
    "    shape_attributes = {\"name\":\"polyline\"}\n",
    "    all_points_x = []\n",
    "    all_points_y = []\n",
    "    \n",
    "    tmp = test_mask[:,:,i]\n",
    "    ret, thresh = cv2.threshold(tmp, 0.5, 1.0, cv2.THRESH_BINARY)\n",
    "    contours, hierarchy = cv2.findContours(thresh, cv2.RETR_TREE, cv2.CHAIN_APPROX_SIMPLE)\n",
    "    \n",
    "    for i in range(len(contours[0])):\n",
    "        all_points_x.append(int(contours[0][i][0][0]))\n",
    "        all_points_y.append(int(contours[0][i][0][1]))\n",
    "    shape_attributes[\"all_points_x\"] = all_points_x\n",
    "    shape_attributes[\"all_points_y\"] = all_points_y\n",
    "    \n",
    "    attr[\"shape_attributes\"] = shape_attributes\n",
    "    regions.append(attr)\n",
    "    plt.imshow(tmp, cmap=\"gray\")\n",
    "    plt.show()\n",
    "    \n",
    "result[\"test\"][\"regions\"] = regions"
   ]
  },
  {
   "cell_type": "code",
   "execution_count": null,
   "metadata": {},
   "outputs": [],
   "source": [
    "# Save json\n",
    "with open(\"label.json\", 'w') as f:\n",
    "    json.dump(result, f)"
   ]
  }
 ],
 "metadata": {
  "kernelspec": {
   "display_name": "Python 3",
   "language": "python",
   "name": "python3"
  },
  "language_info": {
   "codemirror_mode": {
    "name": "ipython",
    "version": 3
   },
   "file_extension": ".py",
   "mimetype": "text/x-python",
   "name": "python",
   "nbconvert_exporter": "python",
   "pygments_lexer": "ipython3",
   "version": "3.5.2"
  }
 },
 "nbformat": 4,
 "nbformat_minor": 2
}
