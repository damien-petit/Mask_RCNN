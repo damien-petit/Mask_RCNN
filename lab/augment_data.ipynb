{
 "cells": [
  {
   "cell_type": "code",
   "execution_count": null,
   "metadata": {},
   "outputs": [],
   "source": [
    "import cv2\n",
    "import json\n",
    "import numpy as np\n",
    "import skimage.draw\n",
    "import matplotlib.pyplot as plt\n",
    "from imgaug import augmenters as iaa"
   ]
  },
  {
   "cell_type": "code",
   "execution_count": null,
   "metadata": {},
   "outputs": [],
   "source": [
    "# Set output area size for image\n",
    "plt.rcParams['figure.figsize'] = (15.0, 15.0)"
   ]
  },
  {
   "cell_type": "markdown",
   "metadata": {},
   "source": [
    "## Load Data"
   ]
  },
  {
   "cell_type": "code",
   "execution_count": null,
   "metadata": {
    "scrolled": false
   },
   "outputs": [],
   "source": [
    "img = cv2.imread(\"test.png\")\n",
    "img = cv2.cvtColor(img, cv2.COLOR_BGR2RGB)\n",
    "height, width = img.shape[:2]\n",
    "print(width, height)\n",
    "plt.imshow(img)\n",
    "plt.show()"
   ]
  },
  {
   "cell_type": "markdown",
   "metadata": {},
   "source": [
    "## Check Various Augument Image"
   ]
  },
  {
   "cell_type": "code",
   "execution_count": null,
   "metadata": {},
   "outputs": [],
   "source": [
    "# aug = iaa.Affine(rotate=(-180, 180))\n",
    "# aug = iaa.LogContrast(gain=(0.6,1.1))\n",
    "# aug = iaa.Resize((0.5, 1.1))\n",
    "aug = iaa.GaussianBlur(sigma=(0.0, 3.0))"
   ]
  },
  {
   "cell_type": "code",
   "execution_count": null,
   "metadata": {},
   "outputs": [],
   "source": [
    "img_aug = aug.augment_image(img)\n",
    "h, w = img_aug.shape[:2]\n",
    "print(w, h)\n",
    "plt.imshow(img_aug)\n",
    "plt.show()"
   ]
  },
  {
   "cell_type": "code",
   "execution_count": null,
   "metadata": {},
   "outputs": [],
   "source": [
    "seq = iaa.Sequential([\n",
    "    iaa.Sometimes(0.8, iaa.Affine(rotate=(-180, 180))),\n",
    "    iaa.Sometimes(0.8, iaa.LogContrast(gain=(0.6, 1.1))),\n",
    "    iaa.Sometimes(0.8, iaa.Resize((0.5, 1.1))),\n",
    "    iaa.Sometimes(0.8, iaa.GaussianBlur(sigma=(0.0, 3.0)))\n",
    "])\n",
    "\n",
    "img_aug = seq.augment_image(img)\n",
    "plt.imshow(img_aug)\n",
    "plt.show()"
   ]
  },
  {
   "cell_type": "markdown",
   "metadata": {},
   "source": [
    "## Load annotation file"
   ]
  },
  {
   "cell_type": "code",
   "execution_count": null,
   "metadata": {},
   "outputs": [],
   "source": [
    "annotations = json.load(open(\"test_label.json\"))\n",
    "annotations = list(annotations.values())\n",
    "annotations = [a for a in annotations if a['regions']]\n",
    "\n",
    "polygons = []\n",
    "names = []\n",
    "for a in annotations:\n",
    "    polygons = [r['shape_attributes'] for r in a['regions']] \n",
    "    names = [r['region_attributes'] for r in a['regions']]"
   ]
  },
  {
   "cell_type": "markdown",
   "metadata": {},
   "source": [
    "## Check masked data"
   ]
  },
  {
   "cell_type": "code",
   "execution_count": null,
   "metadata": {
    "scrolled": true
   },
   "outputs": [],
   "source": [
    "mask = np.zeros([height, width, len(polygons)], dtype=np.uint8)\n",
    "mask_attr = []\n",
    "plt.imshow(img)\n",
    "plt.show()\n",
    "for i, (p, n) in enumerate(zip(polygons, names)):\n",
    "    rr, cc = skimage.draw.polygon(p['all_points_y'], p['all_points_x'])\n",
    "    mask[rr, cc, i] = 1\n",
    "    \n",
    "    print(n[\"name\"])\n",
    "    mask_attr.append(n[\"name\"])\n",
    "    plt.imshow(mask[:, :, i], cmap=\"gray\")\n",
    "    plt.show()"
   ]
  },
  {
   "cell_type": "markdown",
   "metadata": {},
   "source": [
    "## PCA"
   ]
  },
  {
   "cell_type": "code",
   "execution_count": null,
   "metadata": {},
   "outputs": [],
   "source": [
    "from math import atan2, cos, sin, sqrt, pi"
   ]
  },
  {
   "cell_type": "code",
   "execution_count": null,
   "metadata": {},
   "outputs": [],
   "source": [
    "def drawAxis(img, p_, q_, colour, scale):\n",
    "    p = list(p_)\n",
    "    q = list(q_)\n",
    "    \n",
    "    angle = atan2(p[1] - q[1], p[0] - q[0]) # angle in radians\n",
    "    hypotenuse = sqrt((p[1] - q[1]) * (p[1] - q[1]) + (p[0] - q[0]) * (p[0] - q[0]))\n",
    "    # Here we lengthen the arrow by a factor of scale\n",
    "    q[0] = p[0] - scale * hypotenuse * cos(angle)\n",
    "    q[1] = p[1] - scale * hypotenuse * sin(angle)\n",
    "    cv2.line(img, (int(p[0]), int(p[1])), (int(q[0]), int(q[1])), colour, 1, cv2.LINE_AA)\n",
    "    # create the arrow hooks\n",
    "    p[0] = q[0] + 9 * cos(angle + pi / 4)\n",
    "    p[1] = q[1] + 9 * sin(angle + pi / 4)\n",
    "    cv2.line(img, (int(p[0]), int(p[1])), (int(q[0]), int(q[1])), colour, 1, cv2.LINE_AA)\n",
    "    p[0] = q[0] + 9 * cos(angle - pi / 4)\n",
    "    p[1] = q[1] + 9 * sin(angle - pi / 4)\n",
    "    cv2.line(img, (int(p[0]), int(p[1])), (int(q[0]), int(q[1])), colour, 1, cv2.LINE_AA)"
   ]
  },
  {
   "cell_type": "code",
   "execution_count": null,
   "metadata": {},
   "outputs": [],
   "source": [
    "def getOrientation(pts, img):\n",
    "    \n",
    "    sz = len(pts)\n",
    "    data_pts = np.empty((sz, 2), dtype=np.float64)\n",
    "    for i in range(data_pts.shape[0]):\n",
    "        data_pts[i,0] = pts[i,0,0]\n",
    "        data_pts[i,1] = pts[i,0,1]\n",
    "    # Perform PCA analysis\n",
    "    mean = np.empty((0))\n",
    "    mean, eigenvectors, eigenvalues = cv2.PCACompute2(data_pts, mean)\n",
    "    # Store the center of the object\n",
    "    cntr = (int(mean[0,0]), int(mean[0,1]))\n",
    "    \n",
    "    \n",
    "    cv2.circle(img, cntr, 3, (255, 0, 255), 2)\n",
    "    p1 = (cntr[0] + 0.02 * eigenvectors[0,0] * eigenvalues[0,0], cntr[1] + 0.02 * eigenvectors[0,1] * eigenvalues[0,0])\n",
    "    p2 = (cntr[0] - 0.02 * eigenvectors[1,0] * eigenvalues[1,0], cntr[1] - 0.02 * eigenvectors[1,1] * eigenvalues[1,0])\n",
    "    drawAxis(img, cntr, p1, (0, 255, 0), 1)\n",
    "    drawAxis(img, cntr, p2, (255, 255, 0), 5)\n",
    "    angle = atan2(eigenvectors[0,1], eigenvectors[0,0]) # orientation in radians\n",
    "    \n",
    "    return angle"
   ]
  },
  {
   "cell_type": "code",
   "execution_count": null,
   "metadata": {},
   "outputs": [],
   "source": [
    "for i in range(mask.shape[-1]):\n",
    "    ret, thresh = cv2.threshold(mask[:,:,i], 0.5, 1.0, cv2.THRESH_BINARY)\n",
    "    contours, hierarchy = cv2.findContours(thresh, cv2.RETR_EXTERNAL, cv2.CHAIN_APPROX_SIMPLE)\n",
    "    \n",
    "    for i, c in enumerate(contours):\n",
    "        area = cv2.contourArea(c)\n",
    "        if area < 1e2 or 1e5 < area:\n",
    "            continue\n",
    "            \n",
    "        cv2.drawContours(img, contours, i, (0, 0, 255), 2)\n",
    "        getOrientation(c, img)\n",
    "        \n",
    "plt.imshow(img)\n",
    "plt.show()"
   ]
  },
  {
   "cell_type": "markdown",
   "metadata": {},
   "source": [
    "## Augument image and mask"
   ]
  },
  {
   "cell_type": "code",
   "execution_count": null,
   "metadata": {
    "scrolled": false
   },
   "outputs": [],
   "source": [
    "# Integrate image numpy and mask numpy\n",
    "img_and_mask = np.append(img, mask, axis=2)\n",
    "\n",
    "# Check source image\n",
    "plt.imshow(img_and_mask[:,:,:3])\n",
    "plt.show()\n",
    "\n",
    "# Augment\n",
    "aug = iaa.Affine(rotate=(-180, 180))\n",
    "test = aug.augment_image(img_and_mask)\n",
    "test_img = test[:,:,:3]\n",
    "test_mask = test[:,:,3:]\n",
    "\n",
    "# Check augmented image\n",
    "plt.imshow(test_img)\n",
    "plt.show()\n",
    "\n",
    "# Save augmented image\n",
    "# cv2.imwrite(\"test_augment.png\", cv2.cvtColor(test_img, cv2.COLOR_RGB2BGR))\n",
    "\n",
    "# Make augmented masked label data\n",
    "result = {}\n",
    "result[\"test\"] = {\"filename\":\"test_augment.png\", \"file_attributes\":{}, \"size\": 0}\n",
    "regions = []\n",
    "for i in range(test_mask.shape[-1]):\n",
    "    attr = {}\n",
    "    attr[\"region_attributes\"] = {\"name\": mask_attr[i]}\n",
    "    \n",
    "    tmp = test_mask[:,:,i]\n",
    "    ret, thresh = cv2.threshold(tmp, 0.5, 1.0, cv2.THRESH_BINARY)\n",
    "    contours, hierarchy = cv2.findContours(thresh, cv2.RETR_EXTERNAL, cv2.CHAIN_APPROX_SIMPLE)\n",
    "\n",
    "    contours_index = 0\n",
    "    for k in range(len(contours)):\n",
    "        if k != len(contours) - 1:\n",
    "            if len(contours[k]) < len(contours[k + 1]):\n",
    "                contours_index = k + 1\n",
    "    \n",
    "    contours = contours[contours_index]\n",
    "    all_points_x = [int(contours[k][0][0]) for k in range(len(contours))]\n",
    "    all_points_y = [int(contours[k][0][1]) for k in range(len(contours))]\n",
    "    attr[\"shape_attributes\"] = {\"name\": \"polyline\", \"all_points_x\": all_points_x, \"all_points_y\": all_points_y}\n",
    "    regions.append(attr)\n",
    "    plt.imshow(tmp, cmap=\"gray\")\n",
    "    plt.show()\n",
    "    \n",
    "result[\"test\"][\"regions\"] = regions"
   ]
  },
  {
   "cell_type": "code",
   "execution_count": null,
   "metadata": {},
   "outputs": [],
   "source": [
    "# Save json\n",
    "with open(\"label.json\", 'w') as f:\n",
    "    json.dump(result, f)"
   ]
  }
 ],
 "metadata": {
  "kernelspec": {
   "display_name": "Python 3",
   "language": "python",
   "name": "python3"
  },
  "language_info": {
   "codemirror_mode": {
    "name": "ipython",
    "version": 3
   },
   "file_extension": ".py",
   "mimetype": "text/x-python",
   "name": "python",
   "nbconvert_exporter": "python",
   "pygments_lexer": "ipython3",
   "version": "3.5.2"
  }
 },
 "nbformat": 4,
 "nbformat_minor": 2
}
